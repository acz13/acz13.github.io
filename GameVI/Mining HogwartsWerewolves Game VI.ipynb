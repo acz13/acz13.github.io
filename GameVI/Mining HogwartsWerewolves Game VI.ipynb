{
 "cells": [
  {
   "cell_type": "code",
   "execution_count": 1,
   "metadata": {
    "collapsed": true
   },
   "outputs": [],
   "source": [
    "import praw\n",
    "import pandas as pd\n",
    "import matplotlib.pyplot as plt\n",
    "from lxml.html import fragment_fromstring\n",
    "from html import unescape\n",
    "import re\n",
    "import json\n",
    "\n",
    "p = re.compile(\"(\\S+)\")\n",
    "\n",
    "def _wordcount(s):\n",
    "    return(len(p.findall(s)))\n",
    "\n",
    "def wc(html):\n",
    "    tree = fragment_fromstring(unescape(html))\n",
    "    words = tree.xpath('.//text()')\n",
    "    return sum(map(_wordcount, words))\n",
    "\n",
    "def plot(df, line, file, **kwargs):\n",
    "    plt.figure()\n",
    "    axes = df.plot.bar(**kwargs)\n",
    "    for ax in axes.flatten():\n",
    "        if line:\n",
    "            ax.axhline(0, color=\"k\")\n",
    "        if ax.get_yscale() == \"log\":\n",
    "            ax.set_yscale(\"log\", basey=10, subsy=[2, 3, 4, 5, 6, 7, 8, 9])\n",
    "    plt.tight_layout()\n",
    "    plt.savefig(file)\n",
    "    plt.close()\n",
    "\n",
    "r = praw.Reddit(\"scanner\", user_agent='scraper/0.1')\n",
    "\n",
    "\n",
    "raw_roster = ['/u/a_sneaky_meerkat', '/u/awesomewow', '/u/BillBrasky', '/u/bttfforever', '/u/bubbasaurus', '/u/CapZapBrannigan', '/u/CauldronThief', '/u/coyotefacts', '/u/darthrobyn', '/u/dawnphoenix', '/u/Diggenwalde', '/u/Discoferry', '/u/emmach17', '/u/emsmale', '/u/erabel', '/u/FancyZombie5', '/u/findthesky', '/u/Flabbergasted_rhino', '/u/funkimon', '/u/HorrorpopZombie', '/u/Icetoa180', '/u/imaginarystudy', '/u/jilliefish', '/u/kabubum', '/u/kemistreekat', '/u/kingjaime_', '/u/littlebs8', '/u/LoneWolfOfTheCalla', '/u/manelski4', '/u/Mrrrrh', '/u/O0mimsy0o', '/u/PenguinJassy', '/u/Penultima', '/u/pezes', '/u/pizzabangle', '/u/Ravenclawmuggle', '/u/RavenoftheSands', '/u/rightypants', '/u/RissaJo685', '/u/Rysler', '/u/sharon-carter', '/u/spacedoutman', '/u/tana-ryu', '/u/TeacherTish', '/u/tinyporcelainehorses', '/u/-MrJ-', '/u/Apex--Redditer', '/u/annul', '/u/Chefjones', '/u/drippingalchemy', '/u/elbowsss', '/u/HermioneReynaChase', '/u/hpello', '/u/infinityxero', '/u/jarris123', '/u/jfinner1', '/u/Larixon', '/u/Lucygirl9-17', '/u/MacabreGoblin', '/u/megabanette', '/u/Miicle', '/u/NiteMary', '/u/oddfictionrambles', '/u/oomps62', '/u/planetjune', '/u/PM_ME_YOUR_BREAKFAST', '/u/qngff', '/u/ravenclawroxy', '/u/RD917', '/u/Ryan814', '/u/seanmik620', '/u/spludgiexx', '/u/suitelifeofem', '/u/TalkNerdyToMe20', '/u/theDUQofFRAT', '/u/Throwawayjust_incase', '/u/UlyNeves', '/u/victorcaet', '/u/WalrusPeon', '/u/Waygookin_saram']\n",
    "roster = [i[3:].lower() for i in raw_roster]"
   ]
  },
  {
   "cell_type": "code",
   "execution_count": 2,
   "metadata": {},
   "outputs": [
    {
     "name": "stdout",
     "output_type": "stream",
     "text": [
      "Game VI Phase 12: The Hunter, the Headless, and the Shell-shocked\n",
      "Game VI Phase 11: Goodbye, Mothman.\n",
      "Game VI Phase 10: Mob Mentality\n",
      "Game VI Phase 09: Chaos!\n",
      "Game VI Phase 08: Death By Chain\n",
      "Game VI Phase 07: Absolute Chaos\n",
      "Game VI Phase 06: Death of an Innocent\n",
      "Game VI Phase 05: A Short Reign\n",
      "Game VI Phase 04: A New Captain\n",
      "Game VI Phase 03: The Dark Side Cometh\n",
      "Game VI Phase 02: Crew Calamity\n",
      "Game VI Phase 01: Death before Dawn\n",
      "Game VI Phase 00 (Prologue): Preparing for Battle\n"
     ]
    }
   ],
   "source": [
    "sub = r.subreddit(\"hogwartswerewolves\")\n",
    "subms =  sub.submissions()\n",
    "\n",
    "data = []\n",
    "\n",
    "for _ in range(13):\n",
    "    submission = next(subms)\n",
    "    submission.comments.replace_more()\n",
    "    data.append([(i.author.name.lower(), wc(i.body_html)) for i in submission.comments.list() if i.author in roster])\n",
    "    print(submission.title)\n",
    "\n",
    "data.reverse()"
   ]
  },
  {
   "cell_type": "code",
   "execution_count": 3,
   "metadata": {
    "collapsed": true
   },
   "outputs": [],
   "source": [
    "cdf = pd.DataFrame(0, index=range(len(data)), columns=roster)\n",
    "wcdf = pd.DataFrame(0, index=range(len(data)), columns=roster)\n",
    "\n",
    "for m in range(len(data)):\n",
    "    for i in data[m]:\n",
    "        cdf[i[0]][m] += 1\n",
    "        wcdf[i[0]][m] += i[1]\n",
    "\n",
    "tcdf = cdf.sum(axis=1)\n",
    "acdf = cdf.astype(bool).sum(axis=1)\n",
    "twcdf = wcdf.sum(axis=1)\n",
    "awcdf = wcdf.astype(bool).sum(axis=1)"
   ]
  },
  {
   "cell_type": "code",
   "execution_count": 4,
   "metadata": {
    "collapsed": true
   },
   "outputs": [],
   "source": [
    "bigimg = {\n",
    "    \"subplots\": True,\n",
    "    \"layout\": (8, 10), # Change this depending on game\n",
    "    \"figsize\": (30, 20),\n",
    "    \"legend\": False\n",
    "}"
   ]
  },
  {
   "cell_type": "code",
   "execution_count": 5,
   "metadata": {
    "collapsed": true
   },
   "outputs": [],
   "source": [
    "plot(cdf, False, \"output1.png\", **bigimg, ylim=(0, 150))"
   ]
  },
  {
   "cell_type": "code",
   "execution_count": 6,
   "metadata": {
    "collapsed": true
   },
   "outputs": [],
   "source": [
    "plot(wcdf, False, \"output3.png\", **bigimg, ylim=(0, 5000))"
   ]
  },
  {
   "cell_type": "code",
   "execution_count": 7,
   "metadata": {
    "collapsed": true
   },
   "outputs": [],
   "source": [
    "plot(cdf.div(tcdf, axis=0), False, \"output2.png\", **bigimg, ylim=(0, 0.25))"
   ]
  },
  {
   "cell_type": "code",
   "execution_count": 8,
   "metadata": {
    "collapsed": true
   },
   "outputs": [],
   "source": [
    "plot(wcdf.div(twcdf, axis=0), False, \"output4.png\", **bigimg, ylim=(0, 0.5))"
   ]
  },
  {
   "cell_type": "code",
   "execution_count": 9,
   "metadata": {},
   "outputs": [
    {
     "data": {
      "text/plain": [
       "[]"
      ]
     },
     "execution_count": 9,
     "metadata": {},
     "output_type": "execute_result"
    }
   ],
   "source": [
    "plt.close(\"all\")\n",
    "plt.get_fignums()"
   ]
  },
  {
   "cell_type": "code",
   "execution_count": 10,
   "metadata": {
    "collapsed": true
   },
   "outputs": [],
   "source": [
    "# This part is for the vega-lite graph\n",
    "\n",
    "cdf_vega = [{\"comments\": int(cdf[i][k]), \"phase\": k, \"player\": i} for i in roster for k in range(len(data))]\n",
    "with open(\"vega.json\", \"w\") as f:\n",
    "    json.dump(cdf_vega, f)\n",
    "    \n",
    "with open(\"data.json\", \"w\") as f:\n",
    "    json.dump(data, f)"
   ]
  }
 ],
 "metadata": {
  "kernelspec": {
   "display_name": "Python 3",
   "language": "python",
   "name": "python3"
  },
  "language_info": {
   "codemirror_mode": {
    "name": "ipython",
    "version": 3
   },
   "file_extension": ".py",
   "mimetype": "text/x-python",
   "name": "python",
   "nbconvert_exporter": "python",
   "pygments_lexer": "ipython3",
   "version": "3.6.1"
  }
 },
 "nbformat": 4,
 "nbformat_minor": 2
}
